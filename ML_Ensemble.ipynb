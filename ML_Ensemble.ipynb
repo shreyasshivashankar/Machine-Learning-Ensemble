{
 "cells": [
  {
   "cell_type": "code",
   "execution_count": 74,
   "metadata": {},
   "outputs": [],
   "source": [
    "import pandas as pd\n",
    "import numpy\n",
    "\n",
    "from sklearn import preprocessing, metrics\n",
    "#from sklearn.cross_validation import train_test_split\n",
    "from sklearn.preprocessing import LabelEncoder\n",
    "from sklearn.preprocessing import MinMaxScaler\n",
    "from sklearn.model_selection import cross_validate\n",
    "from sklearn.model_selection import train_test_split\n",
    "\n",
    "%matplotlib inline\n",
    "import numpy as np\n",
    "import pandas as pd\n",
    "import graphviz\n",
    "import matplotlib.pyplot as plt\n",
    "import seaborn as sns\n",
    "\n",
    "\n",
    "from sklearn.tree import DecisionTreeClassifier, export_graphviz,DecisionTreeRegressor\n",
    "from sklearn.metrics import accuracy_score,classification_report, recall_score, precision_score,confusion_matrix,mean_absolute_error,mean_squared_error\n",
    "from sklearn.ensemble import RandomForestClassifier\n",
    "from sklearn.ensemble import GradientBoostingClassifier\n",
    "from sklearn.ensemble import AdaBoostClassifier\n",
    "import warnings\n",
    "warnings.filterwarnings('ignore')"
   ]
  },
  {
   "cell_type": "markdown",
   "metadata": {},
   "source": [
    "#### Problem Statement - Tennis Australia is trying to better automate how tennis points get categorized into three outcomes – winners, forced errors and unforced errors.\n",
    "\n",
    "#### Dataset Description:\n",
    "\n",
    "The dataset includes point outcomes of rallies only (where the number of shots hit exceeds two, which represents the serve and return). All points were played at a past Australian Open.\n"
   ]
  },
  {
   "cell_type": "code",
   "execution_count": 75,
   "metadata": {},
   "outputs": [],
   "source": [
    "data = pd.read_csv(\"train_data.csv\")"
   ]
  },
  {
   "cell_type": "markdown",
   "metadata": {},
   "source": [
    "#### See the top 5 rows of the data"
   ]
  },
  {
   "cell_type": "code",
   "execution_count": 76,
   "metadata": {},
   "outputs": [
    {
     "data": {
      "text/html": [
       "<div>\n",
       "<style>\n",
       "    .dataframe thead tr:only-child th {\n",
       "        text-align: right;\n",
       "    }\n",
       "\n",
       "    .dataframe thead th {\n",
       "        text-align: left;\n",
       "    }\n",
       "\n",
       "    .dataframe tbody tr th {\n",
       "        vertical-align: top;\n",
       "    }\n",
       "</style>\n",
       "<table border=\"1\" class=\"dataframe\">\n",
       "  <thead>\n",
       "    <tr style=\"text-align: right;\">\n",
       "      <th></th>\n",
       "      <th>rally</th>\n",
       "      <th>serve</th>\n",
       "      <th>hitpoint</th>\n",
       "      <th>speed</th>\n",
       "      <th>net.clearance</th>\n",
       "      <th>distance.from.sideline</th>\n",
       "      <th>depth</th>\n",
       "      <th>outside.sideline</th>\n",
       "      <th>outside.baseline</th>\n",
       "      <th>player.distance.travelled</th>\n",
       "      <th>...</th>\n",
       "      <th>previous.depth</th>\n",
       "      <th>opponent.depth</th>\n",
       "      <th>opponent.distance.from.center</th>\n",
       "      <th>same.side</th>\n",
       "      <th>previous.hitpoint</th>\n",
       "      <th>previous.time.to.net</th>\n",
       "      <th>server.is.impact.player</th>\n",
       "      <th>outcome</th>\n",
       "      <th>gender</th>\n",
       "      <th>ID</th>\n",
       "    </tr>\n",
       "  </thead>\n",
       "  <tbody>\n",
       "    <tr>\n",
       "      <th>0</th>\n",
       "      <td>4</td>\n",
       "      <td>1</td>\n",
       "      <td>B</td>\n",
       "      <td>35.515042</td>\n",
       "      <td>-0.021725</td>\n",
       "      <td>3.474766</td>\n",
       "      <td>6.797621</td>\n",
       "      <td>False</td>\n",
       "      <td>False</td>\n",
       "      <td>1.467570</td>\n",
       "      <td>...</td>\n",
       "      <td>0.705435</td>\n",
       "      <td>12.5628</td>\n",
       "      <td>2.0724</td>\n",
       "      <td>True</td>\n",
       "      <td>F</td>\n",
       "      <td>0.445318</td>\n",
       "      <td>False</td>\n",
       "      <td>UE</td>\n",
       "      <td>mens</td>\n",
       "      <td>8644</td>\n",
       "    </tr>\n",
       "    <tr>\n",
       "      <th>1</th>\n",
       "      <td>4</td>\n",
       "      <td>2</td>\n",
       "      <td>B</td>\n",
       "      <td>33.382640</td>\n",
       "      <td>1.114202</td>\n",
       "      <td>2.540801</td>\n",
       "      <td>2.608708</td>\n",
       "      <td>False</td>\n",
       "      <td>True</td>\n",
       "      <td>2.311931</td>\n",
       "      <td>...</td>\n",
       "      <td>3.856600</td>\n",
       "      <td>12.3544</td>\n",
       "      <td>5.1124</td>\n",
       "      <td>False</td>\n",
       "      <td>B</td>\n",
       "      <td>0.432434</td>\n",
       "      <td>False</td>\n",
       "      <td>FE</td>\n",
       "      <td>mens</td>\n",
       "      <td>1182</td>\n",
       "    </tr>\n",
       "    <tr>\n",
       "      <th>2</th>\n",
       "      <td>23</td>\n",
       "      <td>1</td>\n",
       "      <td>B</td>\n",
       "      <td>22.316690</td>\n",
       "      <td>-0.254046</td>\n",
       "      <td>3.533166</td>\n",
       "      <td>9.435749</td>\n",
       "      <td>False</td>\n",
       "      <td>False</td>\n",
       "      <td>3.903728</td>\n",
       "      <td>...</td>\n",
       "      <td>2.908892</td>\n",
       "      <td>13.8620</td>\n",
       "      <td>1.6564</td>\n",
       "      <td>False</td>\n",
       "      <td>F</td>\n",
       "      <td>0.397538</td>\n",
       "      <td>True</td>\n",
       "      <td>FE</td>\n",
       "      <td>mens</td>\n",
       "      <td>9042</td>\n",
       "    </tr>\n",
       "    <tr>\n",
       "      <th>3</th>\n",
       "      <td>9</td>\n",
       "      <td>1</td>\n",
       "      <td>F</td>\n",
       "      <td>36.837309</td>\n",
       "      <td>0.766694</td>\n",
       "      <td>0.586885</td>\n",
       "      <td>3.342180</td>\n",
       "      <td>True</td>\n",
       "      <td>False</td>\n",
       "      <td>0.583745</td>\n",
       "      <td>...</td>\n",
       "      <td>0.557554</td>\n",
       "      <td>14.2596</td>\n",
       "      <td>0.1606</td>\n",
       "      <td>True</td>\n",
       "      <td>B</td>\n",
       "      <td>0.671984</td>\n",
       "      <td>True</td>\n",
       "      <td>UE</td>\n",
       "      <td>mens</td>\n",
       "      <td>1222</td>\n",
       "    </tr>\n",
       "    <tr>\n",
       "      <th>4</th>\n",
       "      <td>4</td>\n",
       "      <td>1</td>\n",
       "      <td>B</td>\n",
       "      <td>35.544208</td>\n",
       "      <td>0.116162</td>\n",
       "      <td>0.918725</td>\n",
       "      <td>5.499119</td>\n",
       "      <td>False</td>\n",
       "      <td>False</td>\n",
       "      <td>2.333456</td>\n",
       "      <td>...</td>\n",
       "      <td>3.945317</td>\n",
       "      <td>11.3658</td>\n",
       "      <td>1.1082</td>\n",
       "      <td>False</td>\n",
       "      <td>F</td>\n",
       "      <td>0.340411</td>\n",
       "      <td>False</td>\n",
       "      <td>W</td>\n",
       "      <td>mens</td>\n",
       "      <td>4085</td>\n",
       "    </tr>\n",
       "  </tbody>\n",
       "</table>\n",
       "<p>5 rows × 27 columns</p>\n",
       "</div>"
      ],
      "text/plain": [
       "   rally  serve hitpoint      speed  net.clearance  distance.from.sideline  \\\n",
       "0      4      1        B  35.515042      -0.021725                3.474766   \n",
       "1      4      2        B  33.382640       1.114202                2.540801   \n",
       "2     23      1        B  22.316690      -0.254046                3.533166   \n",
       "3      9      1        F  36.837309       0.766694                0.586885   \n",
       "4      4      1        B  35.544208       0.116162                0.918725   \n",
       "\n",
       "      depth  outside.sideline  outside.baseline  player.distance.travelled  \\\n",
       "0  6.797621             False             False                   1.467570   \n",
       "1  2.608708             False              True                   2.311931   \n",
       "2  9.435749             False             False                   3.903728   \n",
       "3  3.342180              True             False                   0.583745   \n",
       "4  5.499119             False             False                   2.333456   \n",
       "\n",
       "   ...   previous.depth  opponent.depth  opponent.distance.from.center  \\\n",
       "0  ...         0.705435         12.5628                         2.0724   \n",
       "1  ...         3.856600         12.3544                         5.1124   \n",
       "2  ...         2.908892         13.8620                         1.6564   \n",
       "3  ...         0.557554         14.2596                         0.1606   \n",
       "4  ...         3.945317         11.3658                         1.1082   \n",
       "\n",
       "   same.side  previous.hitpoint  previous.time.to.net  \\\n",
       "0       True                  F              0.445318   \n",
       "1      False                  B              0.432434   \n",
       "2      False                  F              0.397538   \n",
       "3       True                  B              0.671984   \n",
       "4      False                  F              0.340411   \n",
       "\n",
       "   server.is.impact.player  outcome  gender    ID  \n",
       "0                    False       UE    mens  8644  \n",
       "1                    False       FE    mens  1182  \n",
       "2                     True       FE    mens  9042  \n",
       "3                     True       UE    mens  1222  \n",
       "4                    False        W    mens  4085  \n",
       "\n",
       "[5 rows x 27 columns]"
      ]
     },
     "execution_count": 76,
     "metadata": {},
     "output_type": "execute_result"
    }
   ],
   "source": [
    "data.head()"
   ]
  },
  {
   "cell_type": "markdown",
   "metadata": {},
   "source": [
    "#### Different classes in Outcome variable"
   ]
  },
  {
   "cell_type": "code",
   "execution_count": 77,
   "metadata": {},
   "outputs": [
    {
     "data": {
      "text/plain": [
       "array(['UE', 'FE', 'W'], dtype=object)"
      ]
     },
     "execution_count": 77,
     "metadata": {},
     "output_type": "execute_result"
    }
   ],
   "source": [
    "pd.unique(data.outcome)"
   ]
  },
  {
   "cell_type": "markdown",
   "metadata": {},
   "source": [
    "#### Outcome variable - classes\n",
    "* Winner – the point winning player hits a shot that is not touched by the opponent\n",
    "* Forced error – the point winning player hits a shot that causes the opponent to not be able to return it, i.e. a good shot that is hard to handle\n",
    "* Unforced error – the player attempting to return the ball makes an error on an otherwise normal looking rally shot"
   ]
  },
  {
   "cell_type": "markdown",
   "metadata": {},
   "source": [
    "#### Check the number of columns"
   ]
  },
  {
   "cell_type": "code",
   "execution_count": 78,
   "metadata": {},
   "outputs": [
    {
     "data": {
      "text/plain": [
       "27"
      ]
     },
     "execution_count": 78,
     "metadata": {},
     "output_type": "execute_result"
    }
   ],
   "source": [
    "len(data.columns)"
   ]
  },
  {
   "cell_type": "markdown",
   "metadata": {},
   "source": [
    "#### Display data type of each variable"
   ]
  },
  {
   "cell_type": "code",
   "execution_count": 79,
   "metadata": {
    "scrolled": true
   },
   "outputs": [
    {
     "data": {
      "text/plain": [
       "rally                                   int64\n",
       "serve                                   int64\n",
       "hitpoint                               object\n",
       "speed                                 float64\n",
       "net.clearance                         float64\n",
       "distance.from.sideline                float64\n",
       "depth                                 float64\n",
       "outside.sideline                         bool\n",
       "outside.baseline                         bool\n",
       "player.distance.travelled             float64\n",
       "player.impact.depth                   float64\n",
       "player.impact.distance.from.center    float64\n",
       "player.depth                          float64\n",
       "player.distance.from.center           float64\n",
       "previous.speed                        float64\n",
       "previous.net.clearance                float64\n",
       "previous.distance.from.sideline       float64\n",
       "previous.depth                        float64\n",
       "opponent.depth                        float64\n",
       "opponent.distance.from.center         float64\n",
       "same.side                                bool\n",
       "previous.hitpoint                      object\n",
       "previous.time.to.net                  float64\n",
       "server.is.impact.player                  bool\n",
       "outcome                                object\n",
       "gender                                 object\n",
       "ID                                      int64\n",
       "dtype: object"
      ]
     },
     "execution_count": 79,
     "metadata": {},
     "output_type": "execute_result"
    }
   ],
   "source": [
    "data.dtypes"
   ]
  },
  {
   "cell_type": "markdown",
   "metadata": {},
   "source": [
    "#### Identifying categorical attributes"
   ]
  },
  {
   "cell_type": "code",
   "execution_count": 80,
   "metadata": {
    "collapsed": true
   },
   "outputs": [],
   "source": [
    "categorical_list = [\"hitpoint\",\"outside.sideline\",\n",
    "                    \"outside.baseline\",\"same.side\",\"previous.hitpoint\",\"server.is.impact.player\",\"gender\"]"
   ]
  },
  {
   "cell_type": "markdown",
   "metadata": {},
   "source": [
    "#### Converting to appropriate datatype"
   ]
  },
  {
   "cell_type": "code",
   "execution_count": 81,
   "metadata": {
    "collapsed": true
   },
   "outputs": [],
   "source": [
    "for i in data[categorical_list]:\n",
    "    data[i] = data[i].astype(\"category\")    "
   ]
  },
  {
   "cell_type": "markdown",
   "metadata": {},
   "source": [
    "#### Display data type of each variable after conversion"
   ]
  },
  {
   "cell_type": "code",
   "execution_count": 82,
   "metadata": {},
   "outputs": [
    {
     "data": {
      "text/plain": [
       "rally                                    int64\n",
       "serve                                    int64\n",
       "hitpoint                              category\n",
       "speed                                  float64\n",
       "net.clearance                          float64\n",
       "distance.from.sideline                 float64\n",
       "depth                                  float64\n",
       "outside.sideline                      category\n",
       "outside.baseline                      category\n",
       "player.distance.travelled              float64\n",
       "player.impact.depth                    float64\n",
       "player.impact.distance.from.center     float64\n",
       "player.depth                           float64\n",
       "player.distance.from.center            float64\n",
       "previous.speed                         float64\n",
       "previous.net.clearance                 float64\n",
       "previous.distance.from.sideline        float64\n",
       "previous.depth                         float64\n",
       "opponent.depth                         float64\n",
       "opponent.distance.from.center          float64\n",
       "same.side                             category\n",
       "previous.hitpoint                     category\n",
       "previous.time.to.net                   float64\n",
       "server.is.impact.player               category\n",
       "outcome                                 object\n",
       "gender                                category\n",
       "ID                                       int64\n",
       "dtype: object"
      ]
     },
     "execution_count": 82,
     "metadata": {},
     "output_type": "execute_result"
    }
   ],
   "source": [
    "data.dtypes"
   ]
  },
  {
   "cell_type": "markdown",
   "metadata": {},
   "source": [
    "#### Dropping ID column and checking the length of columns"
   ]
  },
  {
   "cell_type": "code",
   "execution_count": 83,
   "metadata": {},
   "outputs": [
    {
     "data": {
      "text/plain": [
       "26"
      ]
     },
     "execution_count": 83,
     "metadata": {},
     "output_type": "execute_result"
    }
   ],
   "source": [
    "data.drop([\"ID\"], axis=1, inplace=True)\n",
    "len(data.columns)"
   ]
  },
  {
   "cell_type": "markdown",
   "metadata": {},
   "source": [
    "#### Display summary statistics "
   ]
  },
  {
   "cell_type": "code",
   "execution_count": 84,
   "metadata": {
    "scrolled": true
   },
   "outputs": [
    {
     "data": {
      "text/html": [
       "<div>\n",
       "<style>\n",
       "    .dataframe thead tr:only-child th {\n",
       "        text-align: right;\n",
       "    }\n",
       "\n",
       "    .dataframe thead th {\n",
       "        text-align: left;\n",
       "    }\n",
       "\n",
       "    .dataframe tbody tr th {\n",
       "        vertical-align: top;\n",
       "    }\n",
       "</style>\n",
       "<table border=\"1\" class=\"dataframe\">\n",
       "  <thead>\n",
       "    <tr style=\"text-align: right;\">\n",
       "      <th></th>\n",
       "      <th>rally</th>\n",
       "      <th>serve</th>\n",
       "      <th>speed</th>\n",
       "      <th>net.clearance</th>\n",
       "      <th>distance.from.sideline</th>\n",
       "      <th>depth</th>\n",
       "      <th>player.distance.travelled</th>\n",
       "      <th>player.impact.depth</th>\n",
       "      <th>player.impact.distance.from.center</th>\n",
       "      <th>player.depth</th>\n",
       "      <th>player.distance.from.center</th>\n",
       "      <th>previous.speed</th>\n",
       "      <th>previous.net.clearance</th>\n",
       "      <th>previous.distance.from.sideline</th>\n",
       "      <th>previous.depth</th>\n",
       "      <th>opponent.depth</th>\n",
       "      <th>opponent.distance.from.center</th>\n",
       "      <th>previous.time.to.net</th>\n",
       "    </tr>\n",
       "  </thead>\n",
       "  <tbody>\n",
       "    <tr>\n",
       "      <th>count</th>\n",
       "      <td>8001.000000</td>\n",
       "      <td>8001.000000</td>\n",
       "      <td>8001.000000</td>\n",
       "      <td>8001.000000</td>\n",
       "      <td>8001.000000</td>\n",
       "      <td>8001.000000</td>\n",
       "      <td>8001.000000</td>\n",
       "      <td>8001.000000</td>\n",
       "      <td>8001.000000</td>\n",
       "      <td>8001.000000</td>\n",
       "      <td>8001.000000</td>\n",
       "      <td>8001.000000</td>\n",
       "      <td>8001.000000</td>\n",
       "      <td>8001.000000</td>\n",
       "      <td>8001.000000</td>\n",
       "      <td>8001.000000</td>\n",
       "      <td>8001.000000</td>\n",
       "      <td>8001.000000</td>\n",
       "    </tr>\n",
       "    <tr>\n",
       "      <th>mean</th>\n",
       "      <td>5.966004</td>\n",
       "      <td>1.398700</td>\n",
       "      <td>30.806938</td>\n",
       "      <td>0.629658</td>\n",
       "      <td>1.467630</td>\n",
       "      <td>4.421146</td>\n",
       "      <td>2.690463</td>\n",
       "      <td>11.899694</td>\n",
       "      <td>1.919544</td>\n",
       "      <td>12.253954</td>\n",
       "      <td>1.213795</td>\n",
       "      <td>28.763676</td>\n",
       "      <td>0.821562</td>\n",
       "      <td>2.193420</td>\n",
       "      <td>4.218717</td>\n",
       "      <td>12.616810</td>\n",
       "      <td>2.367952</td>\n",
       "      <td>0.549988</td>\n",
       "    </tr>\n",
       "    <tr>\n",
       "      <th>std</th>\n",
       "      <td>3.548182</td>\n",
       "      <td>0.489661</td>\n",
       "      <td>7.298917</td>\n",
       "      <td>0.982504</td>\n",
       "      <td>1.108697</td>\n",
       "      <td>3.144965</td>\n",
       "      <td>1.713136</td>\n",
       "      <td>2.788231</td>\n",
       "      <td>1.205449</td>\n",
       "      <td>2.039085</td>\n",
       "      <td>0.964364</td>\n",
       "      <td>6.477470</td>\n",
       "      <td>0.674663</td>\n",
       "      <td>1.038942</td>\n",
       "      <td>2.052946</td>\n",
       "      <td>2.075401</td>\n",
       "      <td>1.313927</td>\n",
       "      <td>0.186788</td>\n",
       "    </tr>\n",
       "    <tr>\n",
       "      <th>min</th>\n",
       "      <td>3.000000</td>\n",
       "      <td>1.000000</td>\n",
       "      <td>5.176078</td>\n",
       "      <td>-0.998184</td>\n",
       "      <td>0.000497</td>\n",
       "      <td>0.003135</td>\n",
       "      <td>0.000000</td>\n",
       "      <td>2.156000</td>\n",
       "      <td>0.000200</td>\n",
       "      <td>1.389800</td>\n",
       "      <td>0.000400</td>\n",
       "      <td>8.449117</td>\n",
       "      <td>0.028865</td>\n",
       "      <td>0.000164</td>\n",
       "      <td>0.000467</td>\n",
       "      <td>2.161200</td>\n",
       "      <td>0.000200</td>\n",
       "      <td>0.003201</td>\n",
       "    </tr>\n",
       "    <tr>\n",
       "      <th>25%</th>\n",
       "      <td>3.000000</td>\n",
       "      <td>1.000000</td>\n",
       "      <td>26.770290</td>\n",
       "      <td>-0.027092</td>\n",
       "      <td>0.539500</td>\n",
       "      <td>1.641161</td>\n",
       "      <td>1.444233</td>\n",
       "      <td>11.221400</td>\n",
       "      <td>0.942400</td>\n",
       "      <td>11.374200</td>\n",
       "      <td>0.551800</td>\n",
       "      <td>24.033218</td>\n",
       "      <td>0.404815</td>\n",
       "      <td>1.354458</td>\n",
       "      <td>2.733674</td>\n",
       "      <td>12.082400</td>\n",
       "      <td>1.352200</td>\n",
       "      <td>0.432164</td>\n",
       "    </tr>\n",
       "    <tr>\n",
       "      <th>50%</th>\n",
       "      <td>5.000000</td>\n",
       "      <td>1.000000</td>\n",
       "      <td>32.417690</td>\n",
       "      <td>0.445870</td>\n",
       "      <td>1.210847</td>\n",
       "      <td>3.860266</td>\n",
       "      <td>2.360894</td>\n",
       "      <td>12.691800</td>\n",
       "      <td>1.829400</td>\n",
       "      <td>12.551600</td>\n",
       "      <td>0.983800</td>\n",
       "      <td>29.793417</td>\n",
       "      <td>0.658382</td>\n",
       "      <td>2.168822</td>\n",
       "      <td>4.126864</td>\n",
       "      <td>12.901600</td>\n",
       "      <td>2.332000</td>\n",
       "      <td>0.507559</td>\n",
       "    </tr>\n",
       "    <tr>\n",
       "      <th>75%</th>\n",
       "      <td>7.000000</td>\n",
       "      <td>2.000000</td>\n",
       "      <td>35.681431</td>\n",
       "      <td>0.970844</td>\n",
       "      <td>2.215955</td>\n",
       "      <td>7.029345</td>\n",
       "      <td>3.565853</td>\n",
       "      <td>13.553000</td>\n",
       "      <td>2.745200</td>\n",
       "      <td>13.498000</td>\n",
       "      <td>1.596600</td>\n",
       "      <td>33.581003</td>\n",
       "      <td>1.021397</td>\n",
       "      <td>3.022677</td>\n",
       "      <td>5.595515</td>\n",
       "      <td>13.712800</td>\n",
       "      <td>3.259000</td>\n",
       "      <td>0.624135</td>\n",
       "    </tr>\n",
       "    <tr>\n",
       "      <th>max</th>\n",
       "      <td>38.000000</td>\n",
       "      <td>2.000000</td>\n",
       "      <td>55.052795</td>\n",
       "      <td>12.815893</td>\n",
       "      <td>7.569757</td>\n",
       "      <td>11.886069</td>\n",
       "      <td>14.480546</td>\n",
       "      <td>18.125600</td>\n",
       "      <td>7.746200</td>\n",
       "      <td>18.745800</td>\n",
       "      <td>9.352600</td>\n",
       "      <td>54.207506</td>\n",
       "      <td>6.730275</td>\n",
       "      <td>4.114361</td>\n",
       "      <td>9.997963</td>\n",
       "      <td>20.211000</td>\n",
       "      <td>6.852600</td>\n",
       "      <td>1.635257</td>\n",
       "    </tr>\n",
       "  </tbody>\n",
       "</table>\n",
       "</div>"
      ],
      "text/plain": [
       "             rally        serve        speed  net.clearance  \\\n",
       "count  8001.000000  8001.000000  8001.000000    8001.000000   \n",
       "mean      5.966004     1.398700    30.806938       0.629658   \n",
       "std       3.548182     0.489661     7.298917       0.982504   \n",
       "min       3.000000     1.000000     5.176078      -0.998184   \n",
       "25%       3.000000     1.000000    26.770290      -0.027092   \n",
       "50%       5.000000     1.000000    32.417690       0.445870   \n",
       "75%       7.000000     2.000000    35.681431       0.970844   \n",
       "max      38.000000     2.000000    55.052795      12.815893   \n",
       "\n",
       "       distance.from.sideline        depth  player.distance.travelled  \\\n",
       "count             8001.000000  8001.000000                8001.000000   \n",
       "mean                 1.467630     4.421146                   2.690463   \n",
       "std                  1.108697     3.144965                   1.713136   \n",
       "min                  0.000497     0.003135                   0.000000   \n",
       "25%                  0.539500     1.641161                   1.444233   \n",
       "50%                  1.210847     3.860266                   2.360894   \n",
       "75%                  2.215955     7.029345                   3.565853   \n",
       "max                  7.569757    11.886069                  14.480546   \n",
       "\n",
       "       player.impact.depth  player.impact.distance.from.center  player.depth  \\\n",
       "count          8001.000000                         8001.000000   8001.000000   \n",
       "mean             11.899694                            1.919544     12.253954   \n",
       "std               2.788231                            1.205449      2.039085   \n",
       "min               2.156000                            0.000200      1.389800   \n",
       "25%              11.221400                            0.942400     11.374200   \n",
       "50%              12.691800                            1.829400     12.551600   \n",
       "75%              13.553000                            2.745200     13.498000   \n",
       "max              18.125600                            7.746200     18.745800   \n",
       "\n",
       "       player.distance.from.center  previous.speed  previous.net.clearance  \\\n",
       "count                  8001.000000     8001.000000             8001.000000   \n",
       "mean                      1.213795       28.763676                0.821562   \n",
       "std                       0.964364        6.477470                0.674663   \n",
       "min                       0.000400        8.449117                0.028865   \n",
       "25%                       0.551800       24.033218                0.404815   \n",
       "50%                       0.983800       29.793417                0.658382   \n",
       "75%                       1.596600       33.581003                1.021397   \n",
       "max                       9.352600       54.207506                6.730275   \n",
       "\n",
       "       previous.distance.from.sideline  previous.depth  opponent.depth  \\\n",
       "count                      8001.000000     8001.000000     8001.000000   \n",
       "mean                          2.193420        4.218717       12.616810   \n",
       "std                           1.038942        2.052946        2.075401   \n",
       "min                           0.000164        0.000467        2.161200   \n",
       "25%                           1.354458        2.733674       12.082400   \n",
       "50%                           2.168822        4.126864       12.901600   \n",
       "75%                           3.022677        5.595515       13.712800   \n",
       "max                           4.114361        9.997963       20.211000   \n",
       "\n",
       "       opponent.distance.from.center  previous.time.to.net  \n",
       "count                    8001.000000           8001.000000  \n",
       "mean                        2.367952              0.549988  \n",
       "std                         1.313927              0.186788  \n",
       "min                         0.000200              0.003201  \n",
       "25%                         1.352200              0.432164  \n",
       "50%                         2.332000              0.507559  \n",
       "75%                         3.259000              0.624135  \n",
       "max                         6.852600              1.635257  "
      ]
     },
     "execution_count": 84,
     "metadata": {},
     "output_type": "execute_result"
    }
   ],
   "source": [
    "data.describe()"
   ]
  },
  {
   "cell_type": "markdown",
   "metadata": {},
   "source": [
    "#### Checking for null values"
   ]
  },
  {
   "cell_type": "code",
   "execution_count": 85,
   "metadata": {
    "scrolled": true
   },
   "outputs": [
    {
     "data": {
      "text/plain": [
       "rally                                 0\n",
       "serve                                 0\n",
       "hitpoint                              0\n",
       "speed                                 0\n",
       "net.clearance                         0\n",
       "distance.from.sideline                0\n",
       "depth                                 0\n",
       "outside.sideline                      0\n",
       "outside.baseline                      0\n",
       "player.distance.travelled             0\n",
       "player.impact.depth                   0\n",
       "player.impact.distance.from.center    0\n",
       "player.depth                          0\n",
       "player.distance.from.center           0\n",
       "previous.speed                        0\n",
       "previous.net.clearance                0\n",
       "previous.distance.from.sideline       0\n",
       "previous.depth                        0\n",
       "opponent.depth                        0\n",
       "opponent.distance.from.center         0\n",
       "same.side                             0\n",
       "previous.hitpoint                     0\n",
       "previous.time.to.net                  0\n",
       "server.is.impact.player               0\n",
       "outcome                               0\n",
       "gender                                0\n",
       "dtype: int64"
      ]
     },
     "execution_count": 85,
     "metadata": {},
     "output_type": "execute_result"
    }
   ],
   "source": [
    "data.isnull().sum()"
   ]
  },
  {
   "cell_type": "markdown",
   "metadata": {},
   "source": [
    "#### Display all the columns"
   ]
  },
  {
   "cell_type": "code",
   "execution_count": 86,
   "metadata": {},
   "outputs": [
    {
     "data": {
      "text/plain": [
       "Index(['rally', 'serve', 'hitpoint', 'speed', 'net.clearance',\n",
       "       'distance.from.sideline', 'depth', 'outside.sideline',\n",
       "       'outside.baseline', 'player.distance.travelled', 'player.impact.depth',\n",
       "       'player.impact.distance.from.center', 'player.depth',\n",
       "       'player.distance.from.center', 'previous.speed',\n",
       "       'previous.net.clearance', 'previous.distance.from.sideline',\n",
       "       'previous.depth', 'opponent.depth', 'opponent.distance.from.center',\n",
       "       'same.side', 'previous.hitpoint', 'previous.time.to.net',\n",
       "       'server.is.impact.player', 'outcome', 'gender'],\n",
       "      dtype='object')"
      ]
     },
     "execution_count": 86,
     "metadata": {},
     "output_type": "execute_result"
    }
   ],
   "source": [
    "data.columns"
   ]
  },
  {
   "cell_type": "markdown",
   "metadata": {},
   "source": [
    "#### Creating a list of numerical attributes"
   ]
  },
  {
   "cell_type": "code",
   "execution_count": 87,
   "metadata": {
    "collapsed": true
   },
   "outputs": [],
   "source": [
    "numeric_list = ['rally','serve','speed','net.clearance','distance.from.sideline','depth','player.distance.travelled','player.impact.depth','player.impact.distance.from.center','player.depth','player.distance.from.center','previous.speed','previous.net.clearance','previous.distance.from.sideline','previous.depth','opponent.depth','opponent.distance.from.center']\n",
    "numeric_data = data[numeric_list]\n"
   ]
  },
  {
   "cell_type": "code",
   "execution_count": 88,
   "metadata": {},
   "outputs": [
    {
     "data": {
      "text/plain": [
       "<matplotlib.axes._subplots.AxesSubplot at 0x2a1c80ec390>"
      ]
     },
     "execution_count": 88,
     "metadata": {},
     "output_type": "execute_result"
    },
    {
     "data": {
      "image/png": "[encoded data removed]",
      "text/plain": [
       "<matplotlib.figure.Figure at 0x2a1c79d47f0>"
      ]
     },
     "metadata": {},
     "output_type": "display_data"
    }
   ],
   "source": [
    "# Getting Correlation matrix\n",
    "corr_mat=numeric_data.corr()\n",
    "plt.figure(figsize=(20,20))\n",
    "sns.heatmap(corr_mat,square=True,annot=True,cmap='cubehelix')\n"
   ]
  },
  {
   "cell_type": "code",
   "execution_count": 89,
   "metadata": {
    "collapsed": true
   },
   "outputs": [],
   "source": [
    "from sklearn import preprocessing\n",
    "from sklearn.preprocessing import LabelEncoder\n",
    "le1 = preprocessing.LabelEncoder()\n",
    "for i in categorical_list:\n",
    "    le1.fit(data[i])\n",
    "    data[i] = le1.fit_transform(data[i])"
   ]
  },
  {
   "cell_type": "code",
   "execution_count": 90,
   "metadata": {},
   "outputs": [
    {
     "data": {
      "text/html": [
       "<div>\n",
       "<style>\n",
       "    .dataframe thead tr:only-child th {\n",
       "        text-align: right;\n",
       "    }\n",
       "\n",
       "    .dataframe thead th {\n",
       "        text-align: left;\n",
       "    }\n",
       "\n",
       "    .dataframe tbody tr th {\n",
       "        vertical-align: top;\n",
       "    }\n",
       "</style>\n",
       "<table border=\"1\" class=\"dataframe\">\n",
       "  <thead>\n",
       "    <tr style=\"text-align: right;\">\n",
       "      <th></th>\n",
       "      <th>rally</th>\n",
       "      <th>serve</th>\n",
       "      <th>hitpoint</th>\n",
       "      <th>speed</th>\n",
       "      <th>net.clearance</th>\n",
       "      <th>distance.from.sideline</th>\n",
       "      <th>depth</th>\n",
       "      <th>outside.sideline</th>\n",
       "      <th>outside.baseline</th>\n",
       "      <th>player.distance.travelled</th>\n",
       "      <th>...</th>\n",
       "      <th>previous.distance.from.sideline</th>\n",
       "      <th>previous.depth</th>\n",
       "      <th>opponent.depth</th>\n",
       "      <th>opponent.distance.from.center</th>\n",
       "      <th>same.side</th>\n",
       "      <th>previous.hitpoint</th>\n",
       "      <th>previous.time.to.net</th>\n",
       "      <th>server.is.impact.player</th>\n",
       "      <th>outcome</th>\n",
       "      <th>gender</th>\n",
       "    </tr>\n",
       "  </thead>\n",
       "  <tbody>\n",
       "    <tr>\n",
       "      <th>0</th>\n",
       "      <td>4</td>\n",
       "      <td>1</td>\n",
       "      <td>0</td>\n",
       "      <td>35.515042</td>\n",
       "      <td>-0.021725</td>\n",
       "      <td>3.474766</td>\n",
       "      <td>6.797621</td>\n",
       "      <td>0</td>\n",
       "      <td>0</td>\n",
       "      <td>1.467570</td>\n",
       "      <td>...</td>\n",
       "      <td>2.449182</td>\n",
       "      <td>0.705435</td>\n",
       "      <td>12.5628</td>\n",
       "      <td>2.0724</td>\n",
       "      <td>1</td>\n",
       "      <td>1</td>\n",
       "      <td>0.445318</td>\n",
       "      <td>0</td>\n",
       "      <td>UE</td>\n",
       "      <td>0</td>\n",
       "    </tr>\n",
       "    <tr>\n",
       "      <th>1</th>\n",
       "      <td>4</td>\n",
       "      <td>2</td>\n",
       "      <td>0</td>\n",
       "      <td>33.382640</td>\n",
       "      <td>1.114202</td>\n",
       "      <td>2.540801</td>\n",
       "      <td>2.608708</td>\n",
       "      <td>0</td>\n",
       "      <td>1</td>\n",
       "      <td>2.311931</td>\n",
       "      <td>...</td>\n",
       "      <td>0.583291</td>\n",
       "      <td>3.856600</td>\n",
       "      <td>12.3544</td>\n",
       "      <td>5.1124</td>\n",
       "      <td>0</td>\n",
       "      <td>0</td>\n",
       "      <td>0.432434</td>\n",
       "      <td>0</td>\n",
       "      <td>FE</td>\n",
       "      <td>0</td>\n",
       "    </tr>\n",
       "    <tr>\n",
       "      <th>2</th>\n",
       "      <td>23</td>\n",
       "      <td>1</td>\n",
       "      <td>0</td>\n",
       "      <td>22.316690</td>\n",
       "      <td>-0.254046</td>\n",
       "      <td>3.533166</td>\n",
       "      <td>9.435749</td>\n",
       "      <td>0</td>\n",
       "      <td>0</td>\n",
       "      <td>3.903728</td>\n",
       "      <td>...</td>\n",
       "      <td>1.115250</td>\n",
       "      <td>2.908892</td>\n",
       "      <td>13.8620</td>\n",
       "      <td>1.6564</td>\n",
       "      <td>0</td>\n",
       "      <td>1</td>\n",
       "      <td>0.397538</td>\n",
       "      <td>1</td>\n",
       "      <td>FE</td>\n",
       "      <td>0</td>\n",
       "    </tr>\n",
       "    <tr>\n",
       "      <th>3</th>\n",
       "      <td>9</td>\n",
       "      <td>1</td>\n",
       "      <td>1</td>\n",
       "      <td>36.837309</td>\n",
       "      <td>0.766694</td>\n",
       "      <td>0.586885</td>\n",
       "      <td>3.342180</td>\n",
       "      <td>1</td>\n",
       "      <td>0</td>\n",
       "      <td>0.583745</td>\n",
       "      <td>...</td>\n",
       "      <td>3.256695</td>\n",
       "      <td>0.557554</td>\n",
       "      <td>14.2596</td>\n",
       "      <td>0.1606</td>\n",
       "      <td>1</td>\n",
       "      <td>0</td>\n",
       "      <td>0.671984</td>\n",
       "      <td>1</td>\n",
       "      <td>UE</td>\n",
       "      <td>0</td>\n",
       "    </tr>\n",
       "    <tr>\n",
       "      <th>4</th>\n",
       "      <td>4</td>\n",
       "      <td>1</td>\n",
       "      <td>0</td>\n",
       "      <td>35.544208</td>\n",
       "      <td>0.116162</td>\n",
       "      <td>0.918725</td>\n",
       "      <td>5.499119</td>\n",
       "      <td>0</td>\n",
       "      <td>0</td>\n",
       "      <td>2.333456</td>\n",
       "      <td>...</td>\n",
       "      <td>1.431146</td>\n",
       "      <td>3.945317</td>\n",
       "      <td>11.3658</td>\n",
       "      <td>1.1082</td>\n",
       "      <td>0</td>\n",
       "      <td>1</td>\n",
       "      <td>0.340411</td>\n",
       "      <td>0</td>\n",
       "      <td>W</td>\n",
       "      <td>0</td>\n",
       "    </tr>\n",
       "  </tbody>\n",
       "</table>\n",
       "<p>5 rows × 26 columns</p>\n",
       "</div>"
      ],
      "text/plain": [
       "   rally  serve  hitpoint      speed  net.clearance  distance.from.sideline  \\\n",
       "0      4      1         0  35.515042      -0.021725                3.474766   \n",
       "1      4      2         0  33.382640       1.114202                2.540801   \n",
       "2     23      1         0  22.316690      -0.254046                3.533166   \n",
       "3      9      1         1  36.837309       0.766694                0.586885   \n",
       "4      4      1         0  35.544208       0.116162                0.918725   \n",
       "\n",
       "      depth  outside.sideline  outside.baseline  player.distance.travelled  \\\n",
       "0  6.797621                 0                 0                   1.467570   \n",
       "1  2.608708                 0                 1                   2.311931   \n",
       "2  9.435749                 0                 0                   3.903728   \n",
       "3  3.342180                 1                 0                   0.583745   \n",
       "4  5.499119                 0                 0                   2.333456   \n",
       "\n",
       "    ...    previous.distance.from.sideline  previous.depth  opponent.depth  \\\n",
       "0   ...                           2.449182        0.705435         12.5628   \n",
       "1   ...                           0.583291        3.856600         12.3544   \n",
       "2   ...                           1.115250        2.908892         13.8620   \n",
       "3   ...                           3.256695        0.557554         14.2596   \n",
       "4   ...                           1.431146        3.945317         11.3658   \n",
       "\n",
       "   opponent.distance.from.center  same.side  previous.hitpoint  \\\n",
       "0                         2.0724          1                  1   \n",
       "1                         5.1124          0                  0   \n",
       "2                         1.6564          0                  1   \n",
       "3                         0.1606          1                  0   \n",
       "4                         1.1082          0                  1   \n",
       "\n",
       "   previous.time.to.net  server.is.impact.player  outcome  gender  \n",
       "0              0.445318                        0       UE       0  \n",
       "1              0.432434                        0       FE       0  \n",
       "2              0.397538                        1       FE       0  \n",
       "3              0.671984                        1       UE       0  \n",
       "4              0.340411                        0        W       0  \n",
       "\n",
       "[5 rows x 26 columns]"
      ]
     },
     "execution_count": 90,
     "metadata": {},
     "output_type": "execute_result"
    }
   ],
   "source": [
    "data.head()"
   ]
  },
  {
   "cell_type": "code",
   "execution_count": 91,
   "metadata": {
    "scrolled": true
   },
   "outputs": [
    {
     "name": "stdout",
     "output_type": "stream",
     "text": [
      "(6400, 25)\n",
      "(1601, 25)\n",
      "(6400,)\n",
      "(1601,)\n"
     ]
    }
   ],
   "source": [
    "# Divide into train and test\n",
    "y=data[\"outcome\"]\n",
    "X=data.drop('outcome', axis=1)\n",
    "X_train, X_test, y_train, y_test = train_test_split(X, y, test_size=0.20)\n",
    "print(X_train.shape)\n",
    "print(X_test.shape)\n",
    "print(y_train.shape)\n",
    "print(y_test.shape)"
   ]
  },
  {
   "cell_type": "code",
   "execution_count": 92,
   "metadata": {},
   "outputs": [],
   "source": [
    "from sklearn import preprocessing\n",
    "from sklearn.preprocessing import LabelEncoder\n",
    "le1 = preprocessing.LabelEncoder()\n",
    "y_train=le1.fit_transform( y_train)\n",
    "y_test=le1.fit_transform( y_test)"
   ]
  },
  {
   "cell_type": "markdown",
   "metadata": {},
   "source": [
    "#### Building Decision Tree"
   ]
  },
  {
   "cell_type": "code",
   "execution_count": 93,
   "metadata": {
    "scrolled": false
   },
   "outputs": [
    {
     "name": "stdout",
     "output_type": "stream",
     "text": [
      "0.7464084946908183\n",
      "              precision    recall  f1-score   support\n",
      "\n",
      "           0     0.6496    0.4785    0.5511       372\n",
      "           1     0.6894    0.8634    0.7667       725\n",
      "           2     0.9332    0.7758    0.8472       504\n",
      "\n",
      "   micro avg     0.7464    0.7464    0.7464      1601\n",
      "   macro avg     0.7574    0.7059    0.7217      1601\n",
      "weighted avg     0.7569    0.7464    0.7419      1601\n",
      "\n"
     ]
    }
   ],
   "source": [
    "estimator = DecisionTreeClassifier(max_depth=4,random_state=123)\n",
    "estimator.fit(X_train, y_train)\n",
    "y_pred_ = estimator.predict(X_test)\n",
    "print(accuracy_score(y_test,y_pred_))\n",
    "print(classification_report(y_test,y_pred_,digits=4))"
   ]
  },
  {
   "cell_type": "markdown",
   "metadata": {},
   "source": [
    "## Random Forests\n",
    "\n",
    "- Very simple yet very powerful machine learning algorithm\n",
    "- As the name suggests: Builds a lot of trees within\n",
    "- More robust for the obvious reasons\n",
    "- We have a lot trees, thus lot pf predictions for the test class which enters, now the concept of majority voting.\n",
    "- Can handle both classification and regression problems\n",
    "- Extremely good to avoid overfitting"
   ]
  },
  {
   "cell_type": "markdown",
   "metadata": {},
   "source": [
    "# Working"
   ]
  },
  {
   "cell_type": "markdown",
   "metadata": {},
   "source": [
    "- Assume number of observations in training set is N. Then, sample of these N observations is taken at random but with replacement\n",
    "- If the number of variables or features \"m\" we take square root of m features for node selection at each stage.\n",
    "- There is no pruning done, trees are grown to the fullest depth\n",
    "- New data is predicted by the majority voting method or averaging for regression problems"
   ]
  },
  {
   "cell_type": "markdown",
   "metadata": {},
   "source": [
    "### Important Terminology\n",
    "- Bagging or bootstrap aggregation\n",
    " - Randomly pick the dataset or sub sample the dataset but with replacement\n",
    " - Important point to remember, the size of the new dataset is same as the original dataset."
   ]
  },
  {
   "cell_type": "code",
   "execution_count": 94,
   "metadata": {},
   "outputs": [
    {
     "name": "stdout",
     "output_type": "stream",
     "text": [
      "0.858213616489694\n",
      "              precision    recall  f1-score   support\n",
      "\n",
      "           0     0.7808    0.6989    0.7376       372\n",
      "           1     0.8451    0.8731    0.8589       725\n",
      "           2     0.9268    0.9544    0.9404       504\n",
      "\n",
      "   micro avg     0.8582    0.8582    0.8582      1601\n",
      "   macro avg     0.8509    0.8421    0.8456      1601\n",
      "weighted avg     0.8559    0.8582    0.8564      1601\n",
      "\n"
     ]
    }
   ],
   "source": [
    "clf = RandomForestClassifier(n_estimators=100,random_state=1234)\n",
    "clf.fit(X=X_train, y=y_train)\n",
    "y_pred = clf.predict(X_test)\n",
    "\n",
    "print(accuracy_score(y_test,y_pred))\n",
    "print(classification_report(y_test,y_pred,digits=4))"
   ]
  },
  {
   "cell_type": "code",
   "execution_count": 95,
   "metadata": {},
   "outputs": [
    {
     "name": "stdout",
     "output_type": "stream",
     "text": [
      "[[260 101  11]\n",
      " [ 65 633  27]\n",
      " [  8  15 481]]\n"
     ]
    }
   ],
   "source": [
    "print(confusion_matrix(y_test, y_pred))"
   ]
  },
  {
   "cell_type": "markdown",
   "metadata": {},
   "source": [
    "#### Random Forest Parameters\n",
    "* n_estimators is the number of trees in the forest\n",
    "* max_depth is how deep each tree can be\n",
    "* min_sample_leaf is the minimum samples required in each leaf node for the root node to split.\n",
    "    \"A node will only be split if in each of it's leaf nodes there should be min_sample_leaf\".\n"
   ]
  },
  {
   "cell_type": "code",
   "execution_count": 96,
   "metadata": {
    "collapsed": true
   },
   "outputs": [],
   "source": [
    "## Use Grid Search for parameter tuning. (Exhaustive search over specified parameter values for an estimator)\n",
    "\n",
    "from sklearn.model_selection import GridSearchCV\n",
    "\n",
    "## n_jobs = -1 uses all cores of processor\n",
    "## max_features is the maximum number of attributes to select for each tree\n",
    "\n",
    "rfc_grid = RandomForestClassifier(n_jobs=-1, max_features='sqrt')\n",
    " \n",
    "# Use a grid over parameters of interest\n",
    "\n",
    "param_grid = { \n",
    "           \"n_estimators\" : [9, 18, 27, 36, 45, 54, 63],\n",
    "           \"max_depth\" : [5, 10],\n",
    "           \"min_samples_leaf\" : [2, 4]}\n",
    " \n",
    "rfc_cv_grid = GridSearchCV(estimator = rfc_grid, param_grid = param_grid, cv = 10)"
   ]
  },
  {
   "cell_type": "markdown",
   "metadata": {},
   "source": [
    "##### GridSearchCV implements a “fit” and a “score” method. "
   ]
  },
  {
   "cell_type": "code",
   "execution_count": 97,
   "metadata": {},
   "outputs": [
    {
     "data": {
      "text/plain": [
       "GridSearchCV(cv=10, error_score='raise-deprecating',\n",
       "       estimator=RandomForestClassifier(bootstrap=True, class_weight=None, criterion='gini',\n",
       "            max_depth=None, max_features='sqrt', max_leaf_nodes=None,\n",
       "            min_impurity_decrease=0.0, min_impurity_split=None,\n",
       "            min_samples_leaf=1, min_samples_split=2,\n",
       "            min_weight_fraction_leaf=0.0, n_estimators='warn', n_jobs=-1,\n",
       "            oob_score=False, random_state=None, verbose=0,\n",
       "            warm_start=False),\n",
       "       fit_params=None, iid='warn', n_jobs=None,\n",
       "       param_grid={'n_estimators': [9, 18, 27, 36, 45, 54, 63], 'max_depth': [5, 10], 'min_samples_leaf': [2, 4]},\n",
       "       pre_dispatch='2*n_jobs', refit=True, return_train_score='warn',\n",
       "       scoring=None, verbose=0)"
      ]
     },
     "execution_count": 97,
     "metadata": {},
     "output_type": "execute_result"
    }
   ],
   "source": [
    "## Fit the grid search model\n",
    "rfc_cv_grid.fit(X = X_train, y = y_train)"
   ]
  },
  {
   "cell_type": "code",
   "execution_count": 98,
   "metadata": {},
   "outputs": [
    {
     "name": "stdout",
     "output_type": "stream",
     "text": [
      "0.86984375 {'max_depth': 10, 'min_samples_leaf': 2, 'n_estimators': 36}\n"
     ]
    }
   ],
   "source": [
    "## Print best score and parameters\n",
    "print(rfc_cv_grid.best_score_,rfc_cv_grid.best_params_)"
   ]
  },
  {
   "cell_type": "code",
   "execution_count": 99,
   "metadata": {
    "scrolled": false
   },
   "outputs": [
    {
     "data": {
      "text/plain": [
       "<matplotlib.axes._subplots.AxesSubplot at 0x2a1cbda4860>"
      ]
     },
     "execution_count": 99,
     "metadata": {},
     "output_type": "execute_result"
    },
    {
     "data": {
      "image/png": "[encoded data removed]",
      "text/plain": [
       "<matplotlib.figure.Figure at 0x2a1cbdafe48>"
      ]
     },
     "metadata": {},
     "output_type": "display_data"
    }
   ],
   "source": [
    "feat_importances_rf = pd.Series(clf.feature_importances_, index = X_train.columns)\n",
    "feat_importances_ordered = feat_importances_rf.nlargest(n=len(feat_importances_rf))\n",
    "feat_importances_ordered.plot(kind='bar')"
   ]
  },
  {
   "cell_type": "markdown",
   "metadata": {},
   "source": [
    "## Model Building"
   ]
  },
  {
   "cell_type": "markdown",
   "metadata": {},
   "source": [
    "### Build ADABOOST Classifier"
   ]
  },
  {
   "cell_type": "markdown",
   "metadata": {},
   "source": [
    "1. Assign every observation, X(i), with an initial weight value, w(i) = 1/n, \n",
    "Where n is the total number of observations.\n",
    "2. Train a **weak** model.\n",
    "3. For each observation:\n",
    " <br>3.1. If predicted **incorrectly**, w(i) is **increased**.\n",
    " <br>3.2. If predicted **correctly**, w(i) i **decreased**.\n",
    "4. Train a new weak model where observations with greater weights are given more priority.\n",
    "5. Repeat steps 3 and 4 until observatons are perfectly predicted or a preset number of trees are trained. "
   ]
  },
  {
   "cell_type": "markdown",
   "metadata": {},
   "source": [
    "#### Create Adaboost Classifier"
   ]
  },
  {
   "cell_type": "markdown",
   "metadata": {},
   "source": [
    "The most important parameters are base_estimator, n_estimators, and learning_rate.\n",
    "-  **base_estimator** is the learning algorithm to use to train the weak models. This will almost always not needed to be changed because by far the most common learner to use with AdaBoost is a decision tree – this parameter’s default argument.\n",
    "-  **n_estimators** is the number of models to iteratively train.\n",
    "-  **learning_rate** is the contribution of each model to the weights and defaults to 1. Reducing the learning rate will mean the weights will be increased or decreased to a small degree, forcing the model train slower (but sometimes resulting in better performance scores)."
   ]
  },
  {
   "cell_type": "code",
   "execution_count": 100,
   "metadata": {
    "collapsed": true
   },
   "outputs": [],
   "source": [
    "# Create adaboost-decision tree classifer object\n",
    "Adaboost_model = AdaBoostClassifier(\n",
    "    DecisionTreeClassifier(max_depth=2),\n",
    "    n_estimators = 600,\n",
    "    learning_rate = 1)"
   ]
  },
  {
   "cell_type": "code",
   "execution_count": 101,
   "metadata": {},
   "outputs": [
    {
     "data": {
      "text/plain": [
       "AdaBoostClassifier(algorithm='SAMME.R',\n",
       "          base_estimator=DecisionTreeClassifier(class_weight=None, criterion='gini', max_depth=2,\n",
       "            max_features=None, max_leaf_nodes=None,\n",
       "            min_impurity_decrease=0.0, min_impurity_split=None,\n",
       "            min_samples_leaf=1, min_samples_split=2,\n",
       "            min_weight_fraction_leaf=0.0, presort=False, random_state=None,\n",
       "            splitter='best'),\n",
       "          learning_rate=1, n_estimators=600, random_state=None)"
      ]
     },
     "execution_count": 101,
     "metadata": {},
     "output_type": "execute_result"
    }
   ],
   "source": [
    "Adaboost_model.fit(X_train, y_train)"
   ]
  },
  {
   "cell_type": "code",
   "execution_count": 102,
   "metadata": {
    "collapsed": true
   },
   "outputs": [],
   "source": [
    "y_preds = Adaboost_model.predict(X_test)"
   ]
  },
  {
   "cell_type": "code",
   "execution_count": 103,
   "metadata": {},
   "outputs": [
    {
     "name": "stdout",
     "output_type": "stream",
     "text": [
      "0.8344784509681449\n"
     ]
    }
   ],
   "source": [
    "print(accuracy_score(y_test, y_preds))"
   ]
  },
  {
   "cell_type": "code",
   "execution_count": 104,
   "metadata": {
    "collapsed": true
   },
   "outputs": [],
   "source": [
    "param_grid = {'n_estimators' : [100, 150, 200],\n",
    "              'learning_rate' : [0.1, 0.5, 0.9]}\n",
    "\n",
    "Adaboost_model_clf = GridSearchCV(AdaBoostClassifier(\n",
    "            DecisionTreeClassifier(max_depth=2)), param_grid, n_jobs=-1)"
   ]
  },
  {
   "cell_type": "code",
   "execution_count": 105,
   "metadata": {},
   "outputs": [
    {
     "data": {
      "text/plain": [
       "GridSearchCV(cv='warn', error_score='raise-deprecating',\n",
       "       estimator=AdaBoostClassifier(algorithm='SAMME.R',\n",
       "          base_estimator=DecisionTreeClassifier(class_weight=None, criterion='gini', max_depth=2,\n",
       "            max_features=None, max_leaf_nodes=None,\n",
       "            min_impurity_decrease=0.0, min_impurity_split=None,\n",
       "            min_samples_leaf=1, min_samples_split=2,\n",
       "            min_weight_fraction_leaf=0.0, presort=False, random_state=None,\n",
       "            splitter='best'),\n",
       "          learning_rate=1.0, n_estimators=50, random_state=None),\n",
       "       fit_params=None, iid='warn', n_jobs=-1,\n",
       "       param_grid={'n_estimators': [100, 150, 200], 'learning_rate': [0.1, 0.5, 0.9]},\n",
       "       pre_dispatch='2*n_jobs', refit=True, return_train_score='warn',\n",
       "       scoring=None, verbose=0)"
      ]
     },
     "execution_count": 105,
     "metadata": {},
     "output_type": "execute_result"
    }
   ],
   "source": [
    "Adaboost_model_clf.fit(X_train, y_train)"
   ]
  },
  {
   "cell_type": "code",
   "execution_count": 106,
   "metadata": {},
   "outputs": [
    {
     "name": "stdout",
     "output_type": "stream",
     "text": [
      "0.85390625 {'learning_rate': 0.1, 'n_estimators': 150}\n"
     ]
    }
   ],
   "source": [
    "best_ada_model = Adaboost_model_clf.best_estimator_\n",
    "print (Adaboost_model_clf.best_score_, Adaboost_model_clf.best_params_) "
   ]
  },
  {
   "cell_type": "code",
   "execution_count": 107,
   "metadata": {
    "collapsed": true
   },
   "outputs": [],
   "source": [
    "y_pred_test = best_ada_model.predict(X_test)"
   ]
  },
  {
   "cell_type": "code",
   "execution_count": 108,
   "metadata": {},
   "outputs": [
    {
     "name": "stdout",
     "output_type": "stream",
     "text": [
      "0.8326046221111805\n"
     ]
    }
   ],
   "source": [
    "print(accuracy_score(y_test,y_pred_test))"
   ]
  },
  {
   "cell_type": "code",
   "execution_count": 109,
   "metadata": {},
   "outputs": [
    {
     "name": "stdout",
     "output_type": "stream",
     "text": [
      "[[220 135  17]\n",
      " [ 58 632  35]\n",
      " [ 10  13 481]]\n"
     ]
    }
   ],
   "source": [
    "print(confusion_matrix(y_test, y_pred_test))"
   ]
  },
  {
   "cell_type": "markdown",
   "metadata": {},
   "source": [
    "## Build Gradient Boosting Classifier"
   ]
  },
  {
   "cell_type": "markdown",
   "metadata": {},
   "source": [
    "Gradient boosting is a type of boosting. \n",
    "\n",
    "The key idea behind gradient boosting is to set the target outcomes for this next model in order to minimize the error. The target outcome for each case in the data set depends on how much a change in that case’s prediction impacts the overall prediction error.\n",
    "\n",
    "If, for case X(i), a small change in the prediction causes a large drop in error, then the next target outcome is a high value. Predictions from the new model that are close to its targets will reduce the error.\n",
    "\n",
    "If, for case X(j), a small change in the prediction causes no change in error, then the next target outcome is zero because changing this prediction does not decrease the error.\n",
    "\n",
    "The name gradient boosting arises because of setting target outcomes based on the gradient of the error with respect to the prediction of each case. Each new model takes a step in the direction that minimizes prediction error, in the space of possible predictions for each training case.\n",
    "\n",
    "1. Initialize the outcome\n",
    "2. Iterate from 1 to total number of trees\n",
    "  <br>2.1 Update the weights for targets based on previous run (higher for the ones mis-classified)\n",
    "  <br>2.2 Fit the model on selected subsample of data\n",
    "  <br>2.3 Make predictions on the full set of observations\n",
    "  <br>2.4 Update the output with current results taking into account the learning rate\n",
    "3. Return the final output."
   ]
  },
  {
   "cell_type": "markdown",
   "metadata": {},
   "source": [
    "The most important parameters are learning_rate, n_estimators and subsample\n",
    "- **learning_rate**\n",
    "    -  This determines the impact of each tree on the final outcome (step 2.4). GBM works by starting with an initial estimate which is updated using the output of each tree. The learning parameter controls the magnitude of this change in the estimates.\n",
    "    -  Lower values are generally preferred as they make the model robust to the specific characteristics of tree and thus allowing it to generalize well.\n",
    "    -  Lower values would require higher number of trees to model all the relations and will be computationally expensive.\n",
    "- **n_estimators**\n",
    "    -  The number of sequential trees to be modeled (step 2)\n",
    "    -  Though GBM is fairly robust at higher number of trees but it can still overfit at a point. Hence, this should be tuned using CV for a particular learning rate.\n",
    "- **subsample**\n",
    "    -  The fraction of observations to be selected for each tree. Selection is done by random sampling.\n",
    "    -  Values slightly less than 1 make the model robust by reducing the variance.\n",
    "    -  Typical values ~0.8 generally work fine but can be fine-tuned further."
   ]
  },
  {
   "cell_type": "code",
   "execution_count": 110,
   "metadata": {
    "collapsed": true
   },
   "outputs": [],
   "source": [
    "GBM_model = GradientBoostingClassifier(n_estimators=50,\n",
    "                                       learning_rate=0.3,\n",
    "                                       subsample=0.8)"
   ]
  },
  {
   "cell_type": "code",
   "execution_count": 111,
   "metadata": {},
   "outputs": [
    {
     "data": {
      "text/plain": [
       "GradientBoostingClassifier(criterion='friedman_mse', init=None,\n",
       "              learning_rate=0.3, loss='deviance', max_depth=3,\n",
       "              max_features=None, max_leaf_nodes=None,\n",
       "              min_impurity_decrease=0.0, min_impurity_split=None,\n",
       "              min_samples_leaf=1, min_samples_split=2,\n",
       "              min_weight_fraction_leaf=0.0, n_estimators=50,\n",
       "              n_iter_no_change=None, presort='auto', random_state=None,\n",
       "              subsample=0.8, tol=0.0001, validation_fraction=0.1,\n",
       "              verbose=0, warm_start=False)"
      ]
     },
     "execution_count": 111,
     "metadata": {},
     "output_type": "execute_result"
    }
   ],
   "source": [
    "GBM_model.fit(X=X_train, y=y_train)"
   ]
  },
  {
   "cell_type": "code",
   "execution_count": 112,
   "metadata": {
    "collapsed": true
   },
   "outputs": [],
   "source": [
    "y_pred = GBM_model.predict(X_test)"
   ]
  },
  {
   "cell_type": "code",
   "execution_count": 113,
   "metadata": {},
   "outputs": [
    {
     "name": "stdout",
     "output_type": "stream",
     "text": [
      "0.8594628357276702\n",
      "              precision    recall  f1-score   support\n",
      "\n",
      "           0     0.7801    0.7151    0.7461       372\n",
      "           1     0.8554    0.8648    0.8601       725\n",
      "           2     0.9165    0.9583    0.9370       504\n",
      "\n",
      "   micro avg     0.8595    0.8595    0.8595      1601\n",
      "   macro avg     0.8507    0.8461    0.8477      1601\n",
      "weighted avg     0.8571    0.8595    0.8578      1601\n",
      "\n"
     ]
    }
   ],
   "source": [
    "print(accuracy_score(y_test,y_pred))\n",
    "print(classification_report(y_test,y_pred,digits=4))"
   ]
  },
  {
   "cell_type": "code",
   "execution_count": 114,
   "metadata": {
    "collapsed": true
   },
   "outputs": [],
   "source": [
    "from sklearn.model_selection import GridSearchCV\n",
    "\n",
    "# Model in use\n",
    "GBM = GradientBoostingClassifier() \n",
    " \n",
    "# Use a grid over parameters of interest\n",
    "param_grid = { \n",
    "           \"n_estimators\" : [100,150],\n",
    "           \"max_depth\" : [5, 10],\n",
    "           \"learning_rate\" : [0.1,0.2]}\n",
    " \n",
    "CV_GBM = GridSearchCV(estimator=GBM, param_grid=param_grid, cv= 5)"
   ]
  },
  {
   "cell_type": "code",
   "execution_count": 115,
   "metadata": {},
   "outputs": [
    {
     "data": {
      "text/plain": [
       "GridSearchCV(cv=5, error_score='raise-deprecating',\n",
       "       estimator=GradientBoostingClassifier(criterion='friedman_mse', init=None,\n",
       "              learning_rate=0.1, loss='deviance', max_depth=3,\n",
       "              max_features=None, max_leaf_nodes=None,\n",
       "              min_impurity_decrease=0.0, min_impurity_split=None,\n",
       "              min_samples_leaf=1, min_sampl...      subsample=1.0, tol=0.0001, validation_fraction=0.1,\n",
       "              verbose=0, warm_start=False),\n",
       "       fit_params=None, iid='warn', n_jobs=None,\n",
       "       param_grid={'n_estimators': [100, 150], 'max_depth': [5, 10], 'learning_rate': [0.1, 0.2]},\n",
       "       pre_dispatch='2*n_jobs', refit=True, return_train_score='warn',\n",
       "       scoring=None, verbose=0)"
      ]
     },
     "execution_count": 115,
     "metadata": {},
     "output_type": "execute_result"
    }
   ],
   "source": [
    "CV_GBM.fit(X=X_train, y=y_train)"
   ]
  },
  {
   "cell_type": "code",
   "execution_count": 116,
   "metadata": {},
   "outputs": [
    {
     "name": "stdout",
     "output_type": "stream",
     "text": [
      "0.8753125 {'learning_rate': 0.1, 'max_depth': 5, 'n_estimators': 150}\n"
     ]
    }
   ],
   "source": [
    "# Find best model\n",
    "best_gbm_model = CV_GBM.best_estimator_\n",
    "print (CV_GBM.best_score_, CV_GBM.best_params_)"
   ]
  },
  {
   "cell_type": "code",
   "execution_count": 117,
   "metadata": {
    "collapsed": true
   },
   "outputs": [],
   "source": [
    "y_pred_test=best_gbm_model.predict(X_test)"
   ]
  },
  {
   "cell_type": "code",
   "execution_count": 118,
   "metadata": {},
   "outputs": [
    {
     "name": "stdout",
     "output_type": "stream",
     "text": [
      "0.8557151780137414\n"
     ]
    }
   ],
   "source": [
    "print(accuracy_score(y_test,y_pred_test))"
   ]
  },
  {
   "cell_type": "code",
   "execution_count": 119,
   "metadata": {},
   "outputs": [
    {
     "name": "stdout",
     "output_type": "stream",
     "text": [
      "[[268  91  13]\n",
      " [ 70 622  33]\n",
      " [ 12  12 480]]\n"
     ]
    }
   ],
   "source": [
    "print(confusion_matrix(y_test, y_pred_test))"
   ]
  },
  {
   "cell_type": "code",
   "execution_count": 125,
   "metadata": {},
   "outputs": [],
   "source": [
    "#!pip install vecstack\n",
    "from vecstack import stacking"
   ]
  },
  {
   "cell_type": "code",
   "execution_count": 126,
   "metadata": {},
   "outputs": [],
   "source": [
    "models = [\n",
    "        RandomForestClassifier(random_state=0, n_jobs=-1, \n",
    "                           n_estimators=100, max_depth=3),\n",
    "        \n",
    "    GradientBoostingClassifier(n_estimators=50,\n",
    "                                       learning_rate=0.3,\n",
    "                                       subsample=0.8),\n",
    "\n",
    "\n",
    "  AdaBoostClassifier(\n",
    "    DecisionTreeClassifier(max_depth=2),\n",
    "    n_estimators = 600,\n",
    "    learning_rate = 1)\n",
    "]\n",
    "\n"
   ]
  },
  {
   "cell_type": "raw",
   "metadata": {},
   "source": [
    "The stacking function takes several inputs:\n",
    "•\tmodels: the first level models we defined earlier\n",
    "•\tX_train, y_train, X_test: our data\n",
    "•\tregression: Boolean indicating whether we want to use the function for regression. In our case set to False since this is a classification\n",
    "•\tmode: using the earlier describe out-of-fold during cross-validation\n",
    "•\tneeds_proba: Boolean indicating whether you need the probabilities of class labels\n",
    "•\tsave_dir: save the result to directory Boolean\n",
    "•\tmetric: what evaluation metric to use (we imported the accuracy_score in the beginning)\n",
    "•\tn_folds: how many folds to use for cross-validation\n",
    "•\tstratified: whether to use stratified cross-validation\n",
    "•\tshuffle: whether to shuffle the data\n",
    "•\trandom_state: setting a random state for reproducibility\n",
    "•\tverbose: 2 here refers to printing all info\n"
   ]
  },
  {
   "cell_type": "code",
   "execution_count": 127,
   "metadata": {},
   "outputs": [
    {
     "name": "stdout",
     "output_type": "stream",
     "text": [
      "task:         [classification]\n",
      "n_classes:    [3]\n",
      "metric:       [accuracy_score]\n",
      "mode:         [oof_pred_bag]\n",
      "n_models:     [3]\n",
      "\n",
      "model  0:     [RandomForestClassifier]\n",
      "    fold  0:  [0.80512180]\n",
      "    fold  1:  [0.82760775]\n",
      "    fold  2:  [0.80737961]\n",
      "    fold  3:  [0.78799250]\n",
      "    ----\n",
      "    MEAN:     [0.80702541] + [0.01405021]\n",
      "    FULL:     [0.80703125]\n",
      "\n",
      "model  1:     [GradientBoostingClassifier]\n",
      "    fold  0:  [0.86508432]\n",
      "    fold  1:  [0.88007495]\n",
      "    fold  2:  [0.86866792]\n",
      "    fold  3:  [0.86616635]\n",
      "    ----\n",
      "    MEAN:     [0.86999839] + [0.00596112]\n",
      "    FULL:     [0.87000000]\n",
      "\n",
      "model  2:     [AdaBoostClassifier]\n",
      "    fold  0:  [0.82448470]\n",
      "    fold  1:  [0.84821986]\n",
      "    fold  2:  [0.83989994]\n",
      "    fold  3:  [0.84177611]\n",
      "    ----\n",
      "    MEAN:     [0.83859515] + [0.00871150]\n",
      "    FULL:     [0.83859375]\n",
      "\n"
     ]
    }
   ],
   "source": [
    "S_train, S_test = stacking(models,                   \n",
    "                           X_train, y_train, X_test,   \n",
    "                           regression=False, \n",
    "     \n",
    "                           mode='oof_pred_bag', \n",
    "       \n",
    "                           needs_proba=False,\n",
    "         \n",
    "                           save_dir=None, \n",
    "            \n",
    "                           metric=accuracy_score, \n",
    "    \n",
    "                           n_folds=4, \n",
    "                 \n",
    "                           stratified=True,\n",
    "            \n",
    "                           shuffle=True,  \n",
    "            \n",
    "                           random_state=0,    \n",
    "         \n",
    "                           verbose=2)"
   ]
  },
  {
   "cell_type": "code",
   "execution_count": 134,
   "metadata": {},
   "outputs": [
    {
     "name": "stdout",
     "output_type": "stream",
     "text": [
      "Final prediction score: [0.85509057]\n"
     ]
    }
   ],
   "source": [
    "model = RandomForestClassifier(random_state=0, n_jobs=-1, \n",
    "                           n_estimators=100, max_depth=3)\n",
    "    \n",
    "model = model.fit(S_train, y_train)\n",
    "y_pred = model.predict(S_test)\n",
    "print('Final prediction score: [%.8f]' % accuracy_score(y_test, y_pred))"
   ]
  },
  {
   "cell_type": "code",
   "execution_count": null,
   "metadata": {
    "collapsed": true
   },
   "outputs": [],
   "source": []
  }
 ],
 "metadata": {
  "kernelspec": {
   "display_name": "Python 3",
   "language": "python",
   "name": "python3"
  },
  "language_info": {
   "codemirror_mode": {
    "name": "ipython",
    "version": 3
   },
   "file_extension": ".py",
   "mimetype": "text/x-python",
   "name": "python",
   "nbconvert_exporter": "python",
   "pygments_lexer": "ipython3",
   "version": "3.6.3"
  }
 },
 "nbformat": 4,
 "nbformat_minor": 2
}
